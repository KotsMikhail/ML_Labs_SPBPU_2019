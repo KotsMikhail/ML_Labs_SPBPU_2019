{
 "cells": [
  {
   "cell_type": "code",
   "execution_count": 0,
   "metadata": {
    "colab": {},
    "colab_type": "code",
    "id": "oGQzKooDy36t"
   },
   "outputs": [],
   "source": [
    "import tensorflow as tf\n",
    "import matplotlib.pyplot as plt \n",
    "import numpy as np"
   ]
  },
  {
   "cell_type": "code",
   "execution_count": 0,
   "metadata": {
    "colab": {},
    "colab_type": "code",
    "id": "VEQsa-O4zl1c"
   },
   "outputs": [],
   "source": [
    "# np.random.seed(0) \n",
    "# tf.set_random_seed(0) "
   ]
  },
  {
   "cell_type": "code",
   "execution_count": 0,
   "metadata": {
    "colab": {},
    "colab_type": "code",
    "id": "rNsGW8FwzGun"
   },
   "outputs": [],
   "source": [
    "a_gt = 2\n",
    "b_gt = 1\n",
    "points_count = 10\n",
    "points_count_half = points_count // 2\n",
    "x = np.random.uniform(0, 20, points_count) \n",
    "eps_plus = np.random.uniform(1, 10, points_count_half)\n",
    "eps_minus = np.random.uniform(-10, -1, points_count_half)\n",
    "eps = np.concatenate([eps_plus, eps_minus])\n",
    "labels = np.concatenate([np.full(eps_plus.shape[0], 1), np.full(eps_minus.shape[0], 0)])\n",
    "y = a_gt * x + b_gt + eps\n",
    "features = np.array(list(zip(x, y)))\n",
    "# print(x)\n",
    "# print(y)\n",
    "# print(labels)\n",
    "# print(features)\n"
   ]
  },
  {
   "cell_type": "code",
   "execution_count": 90,
   "metadata": {
    "colab": {
     "base_uri": "https://localhost:8080/",
     "height": 269
    },
    "colab_type": "code",
    "id": "hSQAEh5s3eZf",
    "outputId": "75f06b22-0c5d-42d2-ea5c-a63df808f4e1"
   },
   "outputs": [
    {
     "data": {
      "image/png": "[encoded data removed]",
      "text/plain": [
       "<Figure size 432x288 with 1 Axes>"
      ]
     },
     "metadata": {
      "tags": []
     },
     "output_type": "display_data"
    }
   ],
   "source": [
    "plt.scatter(x[0:points_count_half], y[0:points_count_half], label=\"1\") \n",
    "plt.scatter(x[points_count_half:points_count], y[points_count_half:points_count], label=\"0\")\n",
    "plt.show() "
   ]
  },
  {
   "cell_type": "code",
   "execution_count": 0,
   "metadata": {
    "colab": {},
    "colab_type": "code",
    "id": "UQtpbUMu5pWU"
   },
   "outputs": [],
   "source": [
    "X = tf.placeholder(dtype=\"float\", shape=(2), name=\"X\") \n",
    "Y = tf.placeholder(dtype=\"float\", shape=(1), name=\"Y\")\n",
    "\n",
    "W = tf.Variable(tf.zeros(2), name = \"W\") \n",
    "b = tf.Variable(tf.zeros(1), name = \"b\")\n",
    "\n",
    "pred = tf.math.sigmoid(tf.add(tf.reduce_sum(tf.multiply(W, X)), b))\n",
    "\n",
    "# loss = tf.nn.sigmoid_cross_entropy_with_logits(logits=pred, labels=Y)\n",
    "loss = tf.losses.mean_squared_error(predictions=pred, labels=Y)\n",
    "\n",
    "learning_rate = 1.0e-2\n",
    "optimizer = tf.train.GradientDescentOptimizer(learning_rate).minimize(loss)\n",
    "\n",
    "init = tf.global_variables_initializer()\n",
    "\n",
    "epochs_count = 100\n",
    "\n",
    "# print(features.shape)"
   ]
  },
  {
   "cell_type": "code",
   "execution_count": 92,
   "metadata": {
    "colab": {
     "base_uri": "https://localhost:8080/",
     "height": 1000
    },
    "colab_type": "code",
    "id": "YPbcboPd9csi",
    "outputId": "538e5da7-dc37-46ac-f4b9-58604e68551e"
   },
   "outputs": [
    {
     "name": "stdout",
     "output_type": "stream",
     "text": [
      "epoch: 0 loss: 0.2505383\n",
      "epoch: 1 loss: 0.31457275\n",
      "epoch: 2 loss: 0.12175732\n",
      "epoch: 3 loss: 8.2079736e-05\n",
      "epoch: 4 loss: 0.11597995\n",
      "epoch: 5 loss: 0.19366512\n",
      "epoch: 6 loss: 0.06736862\n",
      "epoch: 7 loss: 0.0017453887\n",
      "epoch: 8 loss: 0.032840513\n",
      "epoch: 9 loss: 5.7240373e-05\n",
      "epoch: 10 loss: 0.109414086\n",
      "epoch: 11 loss: 0.07934721\n",
      "epoch: 12 loss: 0.07750016\n",
      "epoch: 13 loss: 0.021167737\n",
      "epoch: 14 loss: 0.1655016\n",
      "epoch: 15 loss: 0.08771095\n",
      "epoch: 16 loss: 0.00010240062\n",
      "epoch: 17 loss: 0.008817808\n",
      "epoch: 18 loss: 0.024689684\n",
      "epoch: 19 loss: 0.01578249\n",
      "epoch: 20 loss: 0.0041422583\n",
      "epoch: 21 loss: 0.0052544596\n",
      "epoch: 22 loss: 0.023729187\n",
      "epoch: 23 loss: 0.048416935\n",
      "epoch: 24 loss: 0.050882425\n",
      "epoch: 25 loss: 0.033865422\n",
      "epoch: 26 loss: 0.06777699\n",
      "epoch: 27 loss: 9.712872e-06\n",
      "epoch: 28 loss: 0.10814236\n",
      "epoch: 29 loss: 0.0016307322\n",
      "epoch: 30 loss: 0.012995326\n",
      "epoch: 31 loss: 0.006260556\n",
      "epoch: 32 loss: 0.005133735\n",
      "epoch: 33 loss: 0.025986556\n",
      "epoch: 34 loss: 0.027103623\n",
      "epoch: 35 loss: 0.005771748\n",
      "epoch: 36 loss: 0.0074603762\n",
      "epoch: 37 loss: 0.044591114\n",
      "epoch: 38 loss: 0.0008716682\n",
      "epoch: 39 loss: 0.004445326\n",
      "epoch: 40 loss: 0.04150637\n",
      "epoch: 41 loss: 0.027988628\n",
      "epoch: 42 loss: 0.09303848\n",
      "epoch: 43 loss: 0.00035225172\n",
      "epoch: 44 loss: 0.001770986\n",
      "epoch: 45 loss: 0.0021309257\n",
      "epoch: 46 loss: 0.04968196\n",
      "epoch: 47 loss: 7.23348e-05\n",
      "epoch: 48 loss: 0.034662236\n",
      "epoch: 49 loss: 0.032489177\n",
      "epoch: 50 loss: 0.020195894\n",
      "epoch: 51 loss: 0.00090131484\n",
      "epoch: 52 loss: 0.027744763\n",
      "epoch: 53 loss: 9.295792e-05\n",
      "epoch: 54 loss: 5.3609263e-05\n",
      "epoch: 55 loss: 2.6337013e-05\n",
      "epoch: 56 loss: 0.051426463\n",
      "epoch: 57 loss: 0.010683933\n",
      "epoch: 58 loss: 0.054179747\n",
      "epoch: 59 loss: 0.011034843\n",
      "epoch: 60 loss: 0.011601151\n",
      "epoch: 61 loss: 0.0011387042\n",
      "epoch: 62 loss: 0.037607286\n",
      "epoch: 63 loss: 0.0015942372\n",
      "epoch: 64 loss: 0.0009881151\n",
      "epoch: 65 loss: 0.0012529092\n",
      "epoch: 66 loss: 0.027715046\n",
      "epoch: 67 loss: 0.045582324\n",
      "epoch: 68 loss: 0.00017119558\n",
      "epoch: 69 loss: 0.0041443\n",
      "epoch: 70 loss: 0.02632996\n",
      "epoch: 71 loss: 0.0031177944\n",
      "epoch: 72 loss: 0.01002856\n",
      "epoch: 73 loss: 0.00011843263\n",
      "epoch: 74 loss: 0.008922572\n",
      "epoch: 75 loss: 0.0018789883\n",
      "epoch: 76 loss: 0.00096055056\n",
      "epoch: 77 loss: 0.0010272021\n",
      "epoch: 78 loss: 0.0001404804\n",
      "epoch: 79 loss: 0.0038868645\n",
      "epoch: 80 loss: 0.024214502\n",
      "epoch: 81 loss: 0.0021028928\n",
      "epoch: 82 loss: 0.040773503\n",
      "epoch: 83 loss: 0.00029451464\n",
      "epoch: 84 loss: 0.0005253215\n",
      "epoch: 85 loss: 3.4501518e-05\n",
      "epoch: 86 loss: 0.0102271745\n",
      "epoch: 87 loss: 2.6882453e-05\n",
      "epoch: 88 loss: 0.00030299742\n",
      "epoch: 89 loss: 0.0016729556\n",
      "epoch: 90 loss: 1.9405792e-05\n",
      "epoch: 91 loss: 0.001721712\n",
      "epoch: 92 loss: 5.7134e-05\n",
      "epoch: 93 loss: 0.0331216\n",
      "epoch: 94 loss: 0.0001006374\n",
      "epoch: 95 loss: 0.02008046\n",
      "epoch: 96 loss: 0.025496107\n",
      "epoch: 97 loss: 0.00243048\n",
      "epoch: 98 loss: 0.02429617\n",
      "epoch: 99 loss: 0.0019533825\n"
     ]
    }
   ],
   "source": [
    "with tf.Session() as sess:\n",
    "  sess.run(init)\n",
    "  for epoch in range(epochs_count):\n",
    "    order = np.random.permutation(features.shape[0])\n",
    "    for i in order:    \n",
    "      sess.run(optimizer, feed_dict = {X : features[i], Y : np.array([labels[i],])})\n",
    "    loss_val = sess.run(loss, feed_dict = {X : features[i], Y : np.array([labels[i],])})\n",
    "    print(\"epoch:\", epoch, \"loss:\", loss_val)\n",
    "    \n",
    "  weights = sess.run(W) \n",
    "  bias = sess.run(b)"
   ]
  },
  {
   "cell_type": "code",
   "execution_count": 93,
   "metadata": {
    "colab": {
     "base_uri": "https://localhost:8080/",
     "height": 337
    },
    "colab_type": "code",
    "id": "v6PohlHYCFES",
    "outputId": "2e33ef22-25c1-4c19-aebc-490bcaa54e95"
   },
   "outputs": [
    {
     "name": "stdout",
     "output_type": "stream",
     "text": [
      "[-1.1016948  0.5513353]\n",
      "[-0.14593472]\n",
      "a predicted: 1.9982302 a ground truth: 2\n",
      "b predicted: 0.26469323 b ground truth: 1\n"
     ]
    },
    {
     "data": {
      "image/png": "[encoded data removed]",
      "text/plain": [
       "<Figure size 432x288 with 1 Axes>"
      ]
     },
     "metadata": {
      "tags": []
     },
     "output_type": "display_data"
    }
   ],
   "source": [
    "print(weights)\n",
    "print(bias)\n",
    "\n",
    "a_pred = -weights[0] / weights[1]\n",
    "b_pred = -bias[0] / weights[1]\n",
    "\n",
    "print(\"a predicted:\", a_pred, \"a ground truth:\", a_gt)\n",
    "print(\"b predicted:\", b_pred, \"b ground truth:\", b_gt)\n",
    "\n",
    "x_ = np.array(range(0, 20))\n",
    "y_gt_ = a_gt * x_ + b_gt\n",
    "y_pred_ = a_pred * x_ + b_pred\n",
    "\n",
    "plt.plot(x_, y_gt_, label=\"ground truth\", color=\"r\")\n",
    "plt.plot(x_, y_pred_, label=\"predicted\", color=\"g\")\n",
    "plt.scatter(x[0:points_count_half], y[0:points_count_half], label=\"1\") \n",
    "plt.scatter(x[points_count_half:points_count], y[points_count_half:points_count], label=\"0\")\n",
    "plt.legend()\n",
    "plt.show() "
   ]
  }
 ],
 "metadata": {
  "colab": {
   "collapsed_sections": [],
   "name": "MLlab1.ipynb",
   "provenance": []
  },
  "kernelspec": {
   "display_name": "Python 3",
   "language": "python",
   "name": "python3"
  },
  "language_info": {
   "codemirror_mode": {
    "name": "ipython",
    "version": 3
   },
   "file_extension": ".py",
   "mimetype": "text/x-python",
   "name": "python",
   "nbconvert_exporter": "python",
   "pygments_lexer": "ipython3",
   "version": "3.6.4"
  }
 },
 "nbformat": 4,
 "nbformat_minor": 1
}
